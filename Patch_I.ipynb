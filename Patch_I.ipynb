{
 "cells": [
  {
   "cell_type": "markdown",
   "metadata": {},
   "source": [
    "<h1><center>Table of contents.</h1>\n",
    "\n",
    "1. [Introduction](#Intro)\n",
    "2. [Background](#Back)\n",
    "3. [Related Work](#ExistingModels)\n",
    "4. [Importing Libraries](#Libraries)\n",
    "5. [Data](#Data)\n",
    "6. [Methods](#Methods)\n",
    "7. [Data Preprocessing](#Clean)\n",
    "8. [Model](#Model)\n",
    "9. [Model Evaluation](#Tuning)\n",
    "10. [Model Deployment](#Testing)\n",
    "11. [Conclusions](End)"
   ]
  },
  {
   "cell_type": "markdown",
   "metadata": {},
   "source": [
    "<a name=\"Intro\"></a>\n",
    "<h1><center> 1. Introduction."
   ]
  },
  {
   "cell_type": "markdown",
   "metadata": {},
   "source": [
    "Writing things down by hand is an important way of keeping information for the future, but it can easily get ruined or lost. Saving handwritten documents digitally is important so that they can be easily searched and kept safe. However, because everyone's handwriting is different, it's tricky to do this. Penpal helps to solve this problem.\n",
    "\n",
    "Handwritten text recognition (HTR) is a way to use a computer to read and understand words that are written by hand. To do this, the computer needs to be able to separate the words and read them in the right order. Scientists are always working on new and better ways to do this, like using different combinations of neural networks.\n",
    "\n",
    "Recently, a new type of neural network called a \"vision transformer\" has been used to analyze images. They have been really good at recognizing images and have worked just as well as the best neural networks. In this project, the scientists will explore using vision transformers to recognize handwritten text.\n"
   ]
  },
  {
   "cell_type": "markdown",
   "metadata": {},
   "source": [
    "<h2> 1.1. Aim."
   ]
  },
  {
   "cell_type": "markdown",
   "metadata": {},
   "source": [
    "1. Develop a machine learning model that can recognize different styles of handwriting, so that it can accurately convert handwritten notes into digital format.\n",
    "2. Create a database to store the digitized notes in a secure and organized manner.\n",
    "3. Implement encryption and other security measures to protect the privacy of the notes."
   ]
  },
  {
   "cell_type": "markdown",
   "metadata": {},
   "source": [
    "<h2> 1.2. Challenges and Limitations."
   ]
  },
  {
   "cell_type": "markdown",
   "metadata": {},
   "source": [
    "There are a few big challenges when it comes to teaching a computer to read handwritten text. One of the biggest challenges is creating a big enough dataset of labeled handwritten text to train the machine learning model. If there isn't enough data, then transfer learning might need to be used.\n",
    "\n",
    "Another key challenge is teaching the computer to recognize words that it hasn't been specifically trained on. This is important if the computer is going to be able to read text in different languages. Currently, most of the available datasets are in English, so this is a big challenge. The computer will also only be able to recognize letters and numbers from the Latin alphabet."
   ]
  },
  {
   "cell_type": "markdown",
   "metadata": {},
   "source": [
    "<a name=\"Back\"></a>\n",
    "<h1><center> 2. Background."
   ]
  },
  {
   "cell_type": "markdown",
   "metadata": {},
   "source": [
    "<h2>2.1. Handwritten Text Recognition.</h2>\n",
    "    \n",
    "When it comes to recognizing handwritten text, there are two main types: offline and online. In offline recognition, the computer only has access to an image of the completed writing. In online recognition, the writing is stored as coordinates in a two-dimensional plane, showing the order in which the points were written. This information about the order of strokes can be used to help the computer recognize the words. However, online recognition requires a special electronic pen that saves this information, making it less common than offline recognition.    "
   ]
  },
  {
   "cell_type": "markdown",
   "metadata": {},
   "source": [
    "<h2> 2.2. Neural Networks.</h2>\n",
    "\n",
    "In handwritten text recognition, neural networks are used to extract information from images of handwriting. These networks have an input layer, a hidden layer for computation, and an output layer that produces the recognized text. The number of hidden layers can vary, and networks with more than three layers are called \"deep learning networks.\" They can recognize complex patterns and improve their accuracy over time.\n",
    "![Neuralnetworks](https://www.researchgate.net/publication/282997080/figure/fig4/AS:305939199610886@1449952997594/A-typical-two-layer-neural-network-Input-layer-does-not-count-as-the-number-of-layers-of.png)\n",
    "A neural network works by having a node in a layer being connected to all other nodes in the next layer, this is called a fully connected layer. Each connection has an associated weight and threshold. The value of a node is determined by taking the input value and multiplying it with the weight. This new value is then passed through an activation function and that value is then used as the output of the node. **When training a neural network the goal is to minimize a loss function.**"
   ]
  },
  {
   "cell_type": "markdown",
   "metadata": {},
   "source": [
    "<h2> 2.3 Convolutional Neural Networks</h2>\n",
    "\n",
    "A CNN is a type of neural network commonly used for images and audio. It consists of an input layer, convolutional layers that compute the most important features of the image, pooling layers that reduce the dimensionality of the data, and an output layer. The idea is that the first layers identify simple features, and the later layers identify more complex shapes, ultimately leading to identifying the object in the image.\n",
    "\n",
    "![CNN](https://vitalflux.com/wp-content/uploads/2021/11/Input-image-along-with-convolutional-layer.png)"
   ]
  },
  {
   "cell_type": "markdown",
   "metadata": {},
   "source": [
    "<h2> 2.4. Performance Metrics.</h2>"
   ]
  },
  {
   "cell_type": "markdown",
   "metadata": {},
   "source": [
    "<h3> 2.4.1 HTR metrics</h3>\n",
    "\n",
    "To measure the performance of a Handwritten Text Recognition (HTR) model, two metrics are commonly used: Character Error Rate (CER) and Word Error Rate (WER).\n",
    "\n",
    "**CER** is calculated as follows:\n",
    "    \n",
    "    CER = (I + S + D) / n\n",
    "\n",
    "where: \n",
    "* I is the number of insertions, \n",
    "* S is the number of substitutions, \n",
    "* D is the number of deletions. \n",
    "The result gives the percentage of incorrectly recognized characters.\n",
    "\n",
    "**WER**, on the other hand, is the percentage of incorrectly recognized words out of all the words in the recognized text. \n"
   ]
  },
  {
   "cell_type": "markdown",
   "metadata": {},
   "source": [
    "<h3>2.4.2 Classification metrics</h3>\n",
    "\n",
    "**F1-score** is a measure which combines the information from the precision and the recall. This is useful since while looking at them separately, both precision and recall can provide results which does not give a clear picture of how the model performs. A model which predicts only one value as positive and is correct will have a high precision, and a model which predicts everything as positive will have a high recall. To achieve a high F1-score both the precision and the recall needs to be high, thus the F1-score provides a balanced ratio of the two metrics.\n",
    "\n",
    "F1 Score = 2 * (Precision * Recall) / (Precision + Recall)"
   ]
  },
  {
   "cell_type": "markdown",
   "metadata": {},
   "source": [
    "<a name=\"ExistingModels\"></a>\n",
    "<h1><center> 3. Related Work."
   ]
  },
  {
   "cell_type": "markdown",
   "metadata": {},
   "source": [
    "Handwritten Text Recognition (HTR) has been a topic of research for several decades. Early methods relied on feature extraction followed by template matching or machine learning algorithms. However, with the advent of deep learning, neural network-based approaches have achieved state-of-the-art results.\n",
    "\n",
    "1. One approach is the Connectionist Temporal Classification (CTC) method, which uses a Recurrent Neural Network (RNN) to predict the sequence of characters in a word from an image of the word. CTC is trained end-to-end, and the loss function is designed to allow for possible errors in the predicted sequence. Another approach is the use of Convolutional Neural Networks (CNN) to classify image patches as characters or blanks. These character classifiers are then combined to form word-level recognition systems. CNNs have also been used in conjunction with RNNs, where the CNN is used for feature extraction and the RNN is used for sequence modeling.\n",
    "\n",
    "2. Transformers have gained popularity in NLP since the release of \"Attention is all you need\" in 2017 by Vaswani et al. However, their usage in computer vision has not been explored until recently. In 2021, Dosovitskiy et al. demonstrated that vision transformers can achieve state-of-the-art results in image classification while requiring fewer computational resources than convolutional networks. The input image is split into patches, which are flattened and used as input to the transformer encoder. The encoder is made up of MLPs and multiheaded self-attention layers and produces a class embedding output vector.\n",
    "\n",
    "Recent works have focused on improving the HTR models' ability to handle noisy and skewed data. Techniques such as data augmentation, dropout, and curriculum learning have been employed to improve the models' robustness to variations in handwriting styles and text layouts. Some works have also explored the use of attention mechanisms to allow the models to selectively focus on relevant parts of the input image.\n",
    "\n",
    "In summary, recent advancements in deep learning have led to significant improvements in HTR performance. Ongoing research in this field aims to further improve the models' accuracy and robustness to challenging real-world scenarios."
   ]
  },
  {
   "cell_type": "markdown",
   "metadata": {},
   "source": [
    "<a name=\"Libraries\"></a>\n",
    "<h1><center> 4. Importing Libraries."
   ]
  },
  {
   "cell_type": "code",
   "execution_count": 2,
   "metadata": {},
   "outputs": [],
   "source": [
    "# Import necessary libraries\n",
    "import numpy as np\n",
    "import pandas as pd\n",
    "import matplotlib.pyplot as plt\n",
    "import matplotlib.gridspec as gridspec\n",
    "from PIL import Image\n",
    "import os\n",
    "import cv2\n",
    "from skimage.feature import hog\n",
    "import PIL\n",
    "import random\n",
    "import keras\n",
    "import tensorflow as tf\n",
    "from sklearn.preprocessing import normalize\n",
    "from keras.preprocessing.image import ImageDataGenerator\n",
    "from tensorflow.keras import layers\n",
    "from tensorflow.keras import models\n",
    "from sklearn.model_selection import train_test_split\n",
    "from keras.utils import to_categorical\n",
    "from skimage import exposure\n",
    "from skimage.filters import threshold_local\n",
    "from keras.optimizers import Adam\n",
    "from keras.models import Sequential\n",
    "from keras.layers import Dense, Dropout, Flatten\n",
    "from keras.layers import Conv2D, MaxPooling2D\n",
    "from keras import backend as K\n",
    "from keras.callbacks import EarlyStopping, ModelCheckpoint\n",
    "from sklearn.ensemble import RandomForestClassifier\n",
    "from sklearn.metrics import accuracy_score\n",
    "import tensorflow as tf\n",
    "from tensorflow.keras.models import Sequential\n",
    "from tensorflow.keras.layers import Conv2D, MaxPooling2D, Flatten, Dense, Dropout, BatchNormalization\n",
    "from tensorflow.keras.callbacks import EarlyStopping, ReduceLROnPlateau\n",
    "from tensorflow.keras.optimizers import RMSprop\n",
    "\n"
   ]
  },
  {
   "cell_type": "markdown",
   "metadata": {},
   "source": [
    "<h5> Set seed for Reproducibility"
   ]
  },
  {
   "cell_type": "code",
   "execution_count": 3,
   "metadata": {},
   "outputs": [],
   "source": [
    "np.random.seed(2023)\n",
    "tf.random.set_seed(2023)"
   ]
  },
  {
   "cell_type": "markdown",
   "metadata": {},
   "source": [
    "<a name=\"Data\"></a>\n",
    "<h1><center> 5. Data."
   ]
  },
  {
   "cell_type": "markdown",
   "metadata": {},
   "source": [
    "<h2> 5.1. Data Understanding</h2>"
   ]
  },
  {
   "cell_type": "markdown",
   "metadata": {},
   "source": [
    "1. The **EMNIST** dataset contains a set of handwritten characters including both upper and lower case alphabets, digits, and special characters. Each character is represented as a grayscale image of size 28x28. The displayed data samples provide a visual representation of what the handwritten characters look like in the dataset. By examining the data samples, we can see that there are variations in handwriting styles, thickness, and slant of the characters. This diversity in handwriting makes the task of character recognition more challenging. The data is found [here](https://www.nist.gov/itl/products-and-services/emnist-dataset)\n",
    "\n",
    "\n",
    "2. The IAM forms dataset contains handwritten text from various sources such as letters, faxes, and application forms. The displayed samples show different types of handwritten text with varying styles and layouts. The dataset presents a challenge for handwriting recognition models due to the complexity and variability of the handwritten text. The data is found [here](https://fki.tic.heia-fr.ch/databases/iam-handwriting-database)"
   ]
  },
  {
   "cell_type": "markdown",
   "metadata": {},
   "source": [
    "<h2>5.2. Load Data</h2>"
   ]
  },
  {
   "cell_type": "markdown",
   "metadata": {},
   "source": [
    "<h3> 5.2.1. EMNIST</h3>"
   ]
  },
  {
   "cell_type": "code",
   "execution_count": 4,
   "metadata": {},
   "outputs": [
    {
     "name": "stdout",
     "output_type": "stream",
     "text": [
      "EMNIST Train Images: (697932, 28, 28, 1)\n",
      "EMNIST Test Images: (116323, 28, 28, 1)\n"
     ]
    }
   ],
   "source": [
    "# Set seed for reproducibility\n",
    "np.random.seed\n",
    "\n",
    "# Load the data and labels\n",
    "emnist_train_images = np.load('emnistbyClass/emnist_train_images.npy')\n",
    "emnist_train_labels = np.load('emnistbyClass/emnist_train_labels.npy')\n",
    "emnist_test_images = np.load('emnistbyClass/emnist_test_images.npy')\n",
    "emnist_test_labels = np.load('emnistbyClass/emnist_test_labels.npy')\n",
    "\n",
    "# Display the sizes of train and test data\n",
    "print(f\"EMNIST Train Images: {emnist_train_images.shape}\")\n",
    "print(f\"EMNIST Test Images: {emnist_test_images.shape}\")"
   ]
  },
  {
   "cell_type": "markdown",
   "metadata": {},
   "source": [
    "<h2> 5.3. Data Visualization."
   ]
  },
  {
   "cell_type": "code",
   "execution_count": 5,
   "metadata": {},
   "outputs": [
    {
     "data": {
      "image/png": "[encoded data removed]",
      "text/plain": [
       "<Figure size 1000x1000 with 25 Axes>"
      ]
     },
     "metadata": {},
     "output_type": "display_data"
    }
   ],
   "source": [
    "# Visualize EMNIST data samples\n",
    "fig, ax = plt.subplots(5, 5, figsize=(10, 10), tight_layout=True)\n",
    "for i in range(5):\n",
    "    for j in range(5):\n",
    "        ax[i, j].imshow(emnist_train_images[i*5+j].reshape(28, 28), cmap='gray')\n",
    "        ax[i, j].set_title(\"Label: {}\".format(emnist_train_labels[i*5+j]))\n",
    "plt.suptitle(\"EMNIST Data Samples\")\n",
    "plt.show()"
   ]
  },
  {
   "cell_type": "markdown",
   "metadata": {},
   "source": [
    "<a name=\"Methods\"></a>\n",
    "<h1><center> 6. Preprocessing."
   ]
  },
  {
   "cell_type": "markdown",
   "metadata": {},
   "source": [
    "<h2>6.1. Data Preprocessing"
   ]
  },
  {
   "cell_type": "markdown",
   "metadata": {},
   "source": [
    "We dfine a function that preprocess the data.\n",
    "* Reshape the image data to 3D arrays of shape (28, 28, 1), where the last dimension represents the number of channels (in this case, 1 since the images are grayscale).\n",
    "\n",
    "* Normalize the image data by rescaling the pixel values from the range of [0, 255] to [0, 1].\n",
    "\n",
    "* Convert the labels to categorical format using one-hot encoding.\n",
    "\n",
    "* Shuffle the training data randomly to avoid learning any patterns based on the order of the data.\n",
    "\n",
    "* Split the training data into training and validation sets to monitor the performance of the model during training and avoid overfitting."
   ]
  },
  {
   "cell_type": "code",
   "execution_count": 12,
   "metadata": {},
   "outputs": [],
   "source": [
    "# from keras.utils import to_categorical\n",
    "\n",
    "# def random_preprocessing(image):\n",
    "#     # randomly flip the image horizontally\n",
    "#     if np.random.rand() < 0.5:\n",
    "#         image = cv2.flip(image, 1)\n",
    "    \n",
    "#     # randomly add Gaussian noise to the image\n",
    "#     if np.random.rand() < 0.5:\n",
    "#         mean = 0\n",
    "#         var = 0.1\n",
    "#         sigma = var**0.5\n",
    "#         noise = np.random.normal(mean, sigma, image.shape)\n",
    "#         image = image + noise\n",
    "    \n",
    "#     # randomly change the brightness and contrast of the image\n",
    "#     if np.random.rand() < 0.5:\n",
    "#         alpha = np.random.uniform(0.5, 2.0)\n",
    "#         beta = np.random.uniform(-0.5, 0.5)\n",
    "#         image = cv2.convertScaleAbs(image, alpha=alpha, beta=beta)\n",
    "    \n",
    "#     return image"
   ]
  },
  {
   "cell_type": "markdown",
   "metadata": {},
   "source": [
    "<h3>6.1.1 Validation Split"
   ]
  },
  {
   "cell_type": "code",
   "execution_count": 6,
   "metadata": {},
   "outputs": [
    {
     "name": "stdout",
     "output_type": "stream",
     "text": [
      "emnist_train_images shape: (628138, 28, 28, 1)\n",
      "emnist_train_labels shape: (628138,)\n",
      "emnist_val_images shape: (69794, 28, 28, 1)\n",
      "emnist_val_labels shape: (69794,)\n",
      "emnist_test_images shape: (116323, 28, 28, 1)\n",
      "emnist_test_labels shape: (116323,)\n"
     ]
    }
   ],
   "source": [
    "# Normalize pixel values to be between 0 and 1\n",
    "emnist_train_images = emnist_train_images / 255.0\n",
    "emnist_test_images = emnist_test_images / 255.0\n",
    "\n",
    "emnist_train_images, emnist_val_images, emnist_train_labels, emnist_val_labels = train_test_split(\n",
    "    emnist_train_images, emnist_train_labels, test_size=0.1, random_state=42)\n",
    "\n",
    "\n",
    "print(\"emnist_train_images shape:\", emnist_train_images.shape)\n",
    "print(\"emnist_train_labels shape:\", emnist_train_labels.shape)\n",
    "print(\"emnist_val_images shape:\", emnist_val_images.shape)\n",
    "print(\"emnist_val_labels shape:\", emnist_val_labels.shape)\n",
    "print(\"emnist_test_images shape:\", emnist_test_images.shape)\n",
    "print(\"emnist_test_labels shape:\", emnist_test_labels.shape)\n"
   ]
  },
  {
   "cell_type": "markdown",
   "metadata": {},
   "source": [
    "<h2>6.2. Feature Extraction"
   ]
  },
  {
   "cell_type": "markdown",
   "metadata": {},
   "source": [
    "<h3>6.2.1. HOG (Histogram of Oriented Gradients) "
   ]
  },
  {
   "cell_type": "markdown",
   "metadata": {},
   "source": [
    "HOG is a powerful feature extraction method that can be used to capture the essential texture and shape information of handwritten text in the IAM dataset. By extracting HOG features from the images in the dataset and using them as inputs to a machine learning model, we can improve the accuracy and performance of our handwriting recognition system."
   ]
  },
  {
   "cell_type": "markdown",
   "metadata": {},
   "source": [
    "<h3>6.2.2. Extract Features "
   ]
  },
  {
   "cell_type": "code",
   "execution_count": 7,
   "metadata": {},
   "outputs": [],
   "source": [
    "# Compile the model\n",
    "def ctc_loss(y_true, y_pred):\n",
    "    y_true = tf.cast(y_true, tf.float32)\n",
    "    y_pred = tf.cast(y_pred, tf.float32)\n",
    "    input_length = tf.ones_like(y_pred[:, 0]) * tf.shape(y_pred)[1]\n",
    "    label_length = tf.ones_like(y_true[:, 0]) * tf.shape(y_true)[1]\n",
    "    loss = tf.keras.backend.ctc_batch_cost(y_true, y_pred, input_length, label_length)\n",
    "    return loss\n"
   ]
  },
  {
   "cell_type": "markdown",
   "metadata": {},
   "source": [
    "<a name=\"Model\"></a>\n",
    "<h1><center> 7. Model Archetecture."
   ]
  },
  {
   "cell_type": "markdown",
   "metadata": {},
   "source": [
    "<h2>7.1. Base model"
   ]
  },
  {
   "cell_type": "code",
   "execution_count": 9,
   "metadata": {},
   "outputs": [
    {
     "name": "stdout",
     "output_type": "stream",
     "text": [
      "Model: \"sequential_1\"\n",
      "_________________________________________________________________\n",
      " Layer (type)                Output Shape              Param #   \n",
      "=================================================================\n",
      " conv2d_3 (Conv2D)           (None, 26, 26, 32)        320       \n",
      "                                                                 \n",
      " max_pooling2d_3 (MaxPooling  (None, 13, 13, 32)       0         \n",
      " 2D)                                                             \n",
      "                                                                 \n",
      " conv2d_4 (Conv2D)           (None, 11, 11, 64)        18496     \n",
      "                                                                 \n",
      " max_pooling2d_4 (MaxPooling  (None, 5, 5, 64)         0         \n",
      " 2D)                                                             \n",
      "                                                                 \n",
      " conv2d_5 (Conv2D)           (None, 3, 3, 128)         73856     \n",
      "                                                                 \n",
      " max_pooling2d_5 (MaxPooling  (None, 1, 1, 128)        0         \n",
      " 2D)                                                             \n",
      "                                                                 \n",
      " flatten_1 (Flatten)         (None, 128)               0         \n",
      "                                                                 \n",
      " dense_3 (Dense)             (None, 256)               33024     \n",
      "                                                                 \n",
      " dropout_2 (Dropout)         (None, 256)               0         \n",
      "                                                                 \n",
      " dense_4 (Dense)             (None, 128)               32896     \n",
      "                                                                 \n",
      " dropout_3 (Dropout)         (None, 128)               0         \n",
      "                                                                 \n",
      " dense_5 (Dense)             (None, 62)                7998      \n",
      "                                                                 \n",
      "=================================================================\n",
      "Total params: 166,590\n",
      "Trainable params: 166,590\n",
      "Non-trainable params: 0\n",
      "_________________________________________________________________\n"
     ]
    }
   ],
   "source": [
    "# Define the model\n",
    "model = Sequential()\n",
    "model.add(Conv2D(32, (3, 3), activation='relu', input_shape=(28, 28, 1)))\n",
    "model.add(MaxPooling2D((2, 2)))\n",
    "model.add(Conv2D(64, (3, 3), activation='relu'))\n",
    "model.add(MaxPooling2D((2, 2)))\n",
    "model.add(Conv2D(128, (3, 3), activation='relu'))\n",
    "model.add(MaxPooling2D((2, 2)))\n",
    "model.add(Flatten())\n",
    "model.add(Dense(256, activation='relu'))\n",
    "model.add(Dropout(0.5))\n",
    "model.add(Dense(128, activation='relu'))\n",
    "model.add(Dropout(0.5))\n",
    "model.add(Dense(62, activation='softmax'))\n",
    "\n",
    "# Compile the model\n",
    "model.compile(optimizer='adam',\n",
    "              loss='sparse_categorical_crossentropy',\n",
    "              metrics=['accuracy'])\n",
    "\n",
    "model.summary()"
   ]
  },
  {
   "cell_type": "markdown",
   "metadata": {},
   "source": [
    "<h2>7.2. Fit Base Model"
   ]
  },
  {
   "cell_type": "code",
   "execution_count": 18,
   "metadata": {},
   "outputs": [
    {
     "name": "stdout",
     "output_type": "stream",
     "text": [
      "Epoch 1/10\n",
      "4908/4908 [==============================] - ETA: 0s - loss: 3.6974 - accuracy: 0.0520"
     ]
    },
    {
     "name": "stderr",
     "output_type": "stream",
     "text": [
      "2023-04-12 14:59:55.903602: W tensorflow/core/framework/cpu_allocator_impl.cc:82] Allocation of 218873984 exceeds 10% of free system memory.\n"
     ]
    },
    {
     "name": "stdout",
     "output_type": "stream",
     "text": [
      "4908/4908 [==============================] - 480s 97ms/step - loss: 3.6974 - accuracy: 0.0520 - val_loss: 3.6868 - val_accuracy: 0.0561\n",
      "Epoch 2/10\n",
      "4908/4908 [==============================] - 470s 96ms/step - loss: 3.6879 - accuracy: 0.0534 - val_loss: 3.6867 - val_accuracy: 0.0561\n",
      "Epoch 3/10\n",
      "4908/4908 [==============================] - 526s 107ms/step - loss: 3.6873 - accuracy: 0.0540 - val_loss: 3.6860 - val_accuracy: 0.0561\n",
      "Epoch 4/10\n",
      "4908/4908 [==============================] - 474s 97ms/step - loss: 3.6866 - accuracy: 0.0543 - val_loss: 3.6862 - val_accuracy: 0.0561\n",
      "Epoch 5/10\n",
      "4908/4908 [==============================] - 479s 98ms/step - loss: 3.6864 - accuracy: 0.0544 - val_loss: 3.6856 - val_accuracy: 0.0561\n",
      "Epoch 6/10\n",
      "4908/4908 [==============================] - 456s 93ms/step - loss: 3.6861 - accuracy: 0.0543 - val_loss: 3.6862 - val_accuracy: 0.0561\n",
      "Epoch 7/10\n",
      "4908/4908 [==============================] - 445s 91ms/step - loss: 3.6861 - accuracy: 0.0545 - val_loss: 3.6860 - val_accuracy: 0.0561\n",
      "Epoch 8/10\n",
      "4908/4908 [==============================] - 463s 94ms/step - loss: 3.6856 - accuracy: 0.0547 - val_loss: 3.6860 - val_accuracy: 0.0561\n",
      "Epoch 9/10\n",
      "4908/4908 [==============================] - 470s 96ms/step - loss: 3.6855 - accuracy: 0.0546 - val_loss: 3.6858 - val_accuracy: 0.0561\n",
      "Epoch 10/10\n",
      "4908/4908 [==============================] - 465s 95ms/step - loss: 3.6853 - accuracy: 0.0547 - val_loss: 3.6856 - val_accuracy: 0.0561\n"
     ]
    }
   ],
   "source": [
    "# Use data augmentation\n",
    "datagen = ImageDataGenerator(rotation_range=10,\n",
    "                             zoom_range=0.1,\n",
    "                             width_shift_range=0.1,\n",
    "                             height_shift_range=0.1,\n",
    "                             horizontal_flip=False,\n",
    "                             vertical_flip=False)\n",
    "datagen.fit(emnist_train_images)\n",
    "\n",
    "# Train the model with modified batch size and epochs\n",
    "history = model.fit(datagen.flow(emnist_train_images, emnist_train_labels, batch_size=128),\n",
    "                    epochs=10,\n",
    "                    validation_data=(emnist_val_images, emnist_val_labels))\n"
   ]
  },
  {
   "cell_type": "markdown",
   "metadata": {},
   "source": [
    ">The model was trained on the EMNIST ByClass dataset and achieved a training accuracy of 5.47% and a validation accuracy of 5.61%. The training loss started at 3.6974 and gradually decreased to 3.6853 over the course of 10 epochs, while the validation loss stayed around 3.6868. These results suggest that the model is not performing well on the task of classifying handwritten characters. The model's accuracy is only slightly better than randomly guessing, indicating that significant improvements would need to be made to the model architecture or training process to achieve useful performance on this task."
   ]
  },
  {
   "cell_type": "markdown",
   "metadata": {},
   "source": [
    "<h3>7.2.1. Base Model Training Summary"
   ]
  },
  {
   "cell_type": "code",
   "execution_count": null,
   "metadata": {},
   "outputs": [],
   "source": [
    "# Get the training and validation loss and accuracy values from the model history\n",
    "train_loss = history.history['loss']\n",
    "val_loss = history.history['val_loss']\n",
    "train_acc = history.history['accuracy']\n",
    "val_acc = history.history['val_accuracy']\n"
   ]
  },
  {
   "cell_type": "markdown",
   "metadata": {},
   "source": [
    "<h>7.2.1.1. Loss"
   ]
  },
  {
   "cell_type": "code",
   "execution_count": null,
   "metadata": {},
   "outputs": [],
   "source": [
    "# Create line plots of the loss and accuracy values over each epoch\n",
    "epochs = range(1, len(train_loss) + 1)\n",
    "plt.plot(epochs, train_loss, 'bo', label='Training Loss')\n",
    "plt.plot(epochs, val_loss, 'b', label='Validation Loss')\n",
    "plt.title('Training and Validation Loss')\n",
    "plt.xlabel('Epochs')\n",
    "plt.ylabel('Loss')\n",
    "plt.legend()\n",
    "plt.show()"
   ]
  },
  {
   "cell_type": "markdown",
   "metadata": {},
   "source": [
    "<h>7.2.1.2. Accuarcy"
   ]
  },
  {
   "cell_type": "code",
   "execution_count": null,
   "metadata": {},
   "outputs": [],
   "source": [
    "plt.figure()\n",
    "plt.plot(epochs, train_acc, 'bo', label='Training Accuracy')\n",
    "plt.plot(epochs, val_acc, 'b', label='Validation Accuracy')\n",
    "plt.title('Training and Validation Accuracy')\n",
    "plt.xlabel('Epochs')\n",
    "plt.ylabel('Accuracy')\n",
    "plt.legend()\n",
    "plt.show()"
   ]
  },
  {
   "cell_type": "markdown",
   "metadata": {},
   "source": [
    "<a name=\"Evaluation\"></a>\n",
    "    <h1><center> 8. Model Tuning."
   ]
  },
  {
   "cell_type": "markdown",
   "metadata": {},
   "source": [
    "<h2> 8.1. Center Images and Reshape"
   ]
  },
  {
   "cell_type": "code",
   "execution_count": 10,
   "metadata": {},
   "outputs": [],
   "source": [
    "# Center the images\n",
    "emnist_train_images = emnist_train_images - emnist_train_images.mean()\n",
    "emnist_test_images = emnist_test_images - emnist_train_images.mean()\n",
    "emnist_val_images = emnist_val_images - emnist_val_images.mean()\n",
    "\n",
    "# Reshape the images\n",
    "emnist_train_images = emnist_train_images.reshape((-1, 28, 28, 1))\n",
    "emnist_test_images = emnist_test_images.reshape((-1, 28, 28, 1))\n",
    "emnist_val_images = emnist_val_images.reshape((-1, 28, 28, 1))\n"
   ]
  },
  {
   "cell_type": "markdown",
   "metadata": {},
   "source": [
    "<h2> 8.2. Tune Base Model"
   ]
  },
  {
   "cell_type": "markdown",
   "metadata": {},
   "source": [
    "* Added batch normalization: Batch normalization is added after the first and fourth layers to improve the stability and speed of training.\n",
    "\n",
    "* Changed the optimizer: RMSprop is used instead of Adam with a learning rate of 0.001.\n",
    "\n",
    "* Added additional data augmentation techniques: Shear and brightness adjustments are added to the existing data augmentation techniques to increase the diversity of the training set.\n",
    "\n",
    "* Increased the dropout rate in the first dropout layer: The dropout rate in the first dropout layer is increased to 0.25 to prevent overfitting.\n",
    "\n",
    "* Added a learning rate reduction callback: The ReduceLROnPlateau callback is used to reduce the learning rate by a factor of 0.1 if the validation loss does not improve for 3 epochs."
   ]
  },
  {
   "cell_type": "code",
   "execution_count": 12,
   "metadata": {},
   "outputs": [
    {
     "name": "stdout",
     "output_type": "stream",
     "text": [
      "Model: \"sequential_3\"\n",
      "_________________________________________________________________\n",
      " Layer (type)                Output Shape              Param #   \n",
      "=================================================================\n",
      " conv2d_9 (Conv2D)           (None, 26, 26, 32)        320       \n",
      "                                                                 \n",
      " batch_normalization_2 (Batc  (None, 26, 26, 32)       128       \n",
      " hNormalization)                                                 \n",
      "                                                                 \n",
      " conv2d_10 (Conv2D)          (None, 24, 24, 64)        18496     \n",
      "                                                                 \n",
      " max_pooling2d_8 (MaxPooling  (None, 12, 12, 64)       0         \n",
      " 2D)                                                             \n",
      "                                                                 \n",
      " conv2d_11 (Conv2D)          (None, 10, 10, 128)       73856     \n",
      "                                                                 \n",
      " max_pooling2d_9 (MaxPooling  (None, 5, 5, 128)        0         \n",
      " 2D)                                                             \n",
      "                                                                 \n",
      " flatten_3 (Flatten)         (None, 3200)              0         \n",
      "                                                                 \n",
      " dense_9 (Dense)             (None, 512)               1638912   \n",
      "                                                                 \n",
      " batch_normalization_3 (Batc  (None, 512)              2048      \n",
      " hNormalization)                                                 \n",
      "                                                                 \n",
      " dropout_6 (Dropout)         (None, 512)               0         \n",
      "                                                                 \n",
      " dense_10 (Dense)            (None, 128)               65664     \n",
      "                                                                 \n",
      " dropout_7 (Dropout)         (None, 128)               0         \n",
      "                                                                 \n",
      " dense_11 (Dense)            (None, 62)                7998      \n",
      "                                                                 \n",
      "=================================================================\n",
      "Total params: 1,807,422\n",
      "Trainable params: 1,806,334\n",
      "Non-trainable params: 1,088\n",
      "_________________________________________________________________\n"
     ]
    }
   ],
   "source": [
    "# Define the model\n",
    "tuned_model = Sequential()\n",
    "tuned_model.add(Conv2D(32, (3, 3), activation='relu', input_shape=(28, 28, 1)))\n",
    "tuned_model.add(BatchNormalization())\n",
    "tuned_model.add(Conv2D(64, (3, 3), activation='relu'))\n",
    "tuned_model.add(MaxPooling2D((2, 2)))\n",
    "tuned_model.add(Conv2D(128, (3, 3), activation='relu'))\n",
    "tuned_model.add(MaxPooling2D((2, 2)))\n",
    "tuned_model.add(Flatten())\n",
    "tuned_model.add(Dense(512, activation='relu'))\n",
    "tuned_model.add(BatchNormalization())\n",
    "tuned_model.add(Dropout(0.25))\n",
    "tuned_model.add(Dense(128, activation='relu'))\n",
    "tuned_model.add(Dropout(0.25))\n",
    "tuned_model.add(Dense(62, activation='softmax'))\n",
    "\n",
    "# Compile the model\n",
    "optimizer = RMSprop(lr=0.001)\n",
    "tuned_model.compile(optimizer=optimizer,\n",
    "              loss='sparse_categorical_crossentropy',\n",
    "              metrics=['accuracy'])\n",
    "\n",
    "tuned_model.summary()"
   ]
  },
  {
   "cell_type": "markdown",
   "metadata": {},
   "source": [
    "<h3>8.2.1. Fit Tuned Model"
   ]
  },
  {
   "cell_type": "code",
   "execution_count": null,
   "metadata": {},
   "outputs": [
    {
     "name": "stdout",
     "output_type": "stream",
     "text": [
      "Epoch 1/50\n",
      "2454/2454 [==============================] - 1547s 631ms/step - loss: 0.7826 - accuracy: 0.7513 - val_loss: 0.5280 - val_accuracy: 0.8165 - lr: 0.0010\n",
      "Epoch 2/50\n",
      "2454/2454 [==============================] - 1558s 635ms/step - loss: 0.5995 - accuracy: 0.8022 - val_loss: 0.5129 - val_accuracy: 0.8233 - lr: 0.0010\n",
      "Epoch 3/50\n",
      "2454/2454 [==============================] - 1583s 645ms/step - loss: 0.5800 - accuracy: 0.8096 - val_loss: 0.5063 - val_accuracy: 0.8301 - lr: 0.0010\n",
      "Epoch 4/50\n",
      "2454/2454 [==============================] - 1548s 631ms/step - loss: 0.5700 - accuracy: 0.8132 - val_loss: 0.4915 - val_accuracy: 0.8298 - lr: 0.0010\n",
      "Epoch 5/50\n",
      "2454/2454 [==============================] - 1539s 627ms/step - loss: 0.5587 - accuracy: 0.8162 - val_loss: 0.4853 - val_accuracy: 0.8289 - lr: 0.0010\n",
      "Epoch 6/50\n",
      "2454/2454 [==============================] - 1596s 650ms/step - loss: 0.5464 - accuracy: 0.8187 - val_loss: 0.4466 - val_accuracy: 0.8457 - lr: 0.0010\n",
      "Epoch 7/50\n",
      "2454/2454 [==============================] - 1648s 671ms/step - loss: 0.5333 - accuracy: 0.8219 - val_loss: 0.4881 - val_accuracy: 0.8394 - lr: 0.0010\n",
      "Epoch 8/50\n",
      "2454/2454 [==============================] - 1553s 633ms/step - loss: 0.5174 - accuracy: 0.8252 - val_loss: 0.4711 - val_accuracy: 0.8382 - lr: 0.0010\n",
      "Epoch 9/50\n",
      "2454/2454 [==============================] - 1567s 638ms/step - loss: 0.5052 - accuracy: 0.8277 - val_loss: 0.4291 - val_accuracy: 0.8451 - lr: 0.0010\n",
      "Epoch 10/50\n",
      "2454/2454 [==============================] - 1548s 631ms/step - loss: 0.4981 - accuracy: 0.8299 - val_loss: 0.4439 - val_accuracy: 0.8431 - lr: 0.0010\n",
      "Epoch 11/50\n",
      "2454/2454 [==============================] - 1618s 659ms/step - loss: 0.4928 - accuracy: 0.8311 - val_loss: 0.4678 - val_accuracy: 0.8327 - lr: 0.0010\n",
      "Epoch 12/50\n",
      "2454/2454 [==============================] - ETA: 0s - loss: 0.4896 - accuracy: 0.8323\n",
      "Epoch 12: ReduceLROnPlateau reducing learning rate to 0.00010000000474974513.\n",
      "2454/2454 [==============================] - 1626s 663ms/step - loss: 0.4896 - accuracy: 0.8323 - val_loss: 0.4347 - val_accuracy: 0.8440 - lr: 0.0010\n",
      "Epoch 13/50\n",
      "1768/2454 [====================>.........] - ETA: 7:32 - loss: 0.4634 - accuracy: 0.8389"
     ]
    }
   ],
   "source": [
    "# Define early stopping and learning rate reduction\n",
    "early_stopping = EarlyStopping(monitor='val_loss', patience=5)\n",
    "reduce_lr = ReduceLROnPlateau(monitor='val_loss', factor=0.1, patience=3, verbose=1)\n",
    "\n",
    "# Define data augmentation\n",
    "datagen = ImageDataGenerator(rotation_range=10,\n",
    "                             zoom_range=0.1,\n",
    "                             width_shift_range=0.1,\n",
    "                             height_shift_range=0.1,\n",
    "                             shear_range=0.1,\n",
    "                             brightness_range=[0.9, 1.1],\n",
    "                             horizontal_flip=True,\n",
    "                             vertical_flip=False)\n",
    "datagen.fit(emnist_train_images)\n",
    "\n",
    "# Fit the model with data augmentation, early stopping, and learning rate reduction\n",
    "tuned_history = tuned_model.fit(datagen.flow(emnist_train_images, emnist_train_labels, batch_size=256),\n",
    "                    epochs=50,\n",
    "                    validation_data=(emnist_val_images, emnist_val_labels),\n",
    "                    callbacks=[early_stopping, reduce_lr])\n"
   ]
  },
  {
   "cell_type": "code",
   "execution_count": null,
   "metadata": {},
   "outputs": [],
   "source": [
    "import pickle\n",
    "\n",
    "# Save the Keras model as a penpal file\n",
    "with open('PENPAL.pickle', 'wb') as f:\n",
    "    pickle.dump(model, f)\n",
    "    "
   ]
  },
  {
   "cell_type": "code",
   "execution_count": null,
   "metadata": {},
   "outputs": [],
   "source": [
    "# Load the Keras model from the penpal file\n",
    "with open('PENPAL.pickle', 'rb') as f:\n",
    "    penpalA = pickle.load(f)\n",
    "\n",
    "# Use the loaded model for prediction\n",
    "predictions = penpalA.predict(x_test)\n"
   ]
  },
  {
   "cell_type": "markdown",
   "metadata": {},
   "source": [
    "<a name=\"Evaluation\"></a>\n",
    "<h1><center> 9. Model Evaluation."
   ]
  },
  {
   "cell_type": "code",
   "execution_count": null,
   "metadata": {},
   "outputs": [],
   "source": [
    "# Evaluate the model on the test data\n",
    "test_loss = tunedModel.evaluate(emnist_test_images, emnist_test_labels)\n",
    "print('Test loss:', test_loss)\n",
    "\n",
    "# Get the predictions on the validation data\n",
    "predictions = tunedModel.predict(emnist_val_images)\n",
    "\n",
    "# Visualize the predictions against the truth\n",
    "import numpy as np\n",
    "import matplotlib.pyplot as plt\n",
    "\n",
    "# Decode the predictions and truth labels\n",
    "decoded_preds = tf.keras.backend.ctc_decode(predictions, input_length=np.ones(predictions.shape[0])*predictions.shape[1])[0][0]\n",
    "decoded_labels = tf.keras.backend.ctc_decode(emnist_val_labels, input_length=np.ones(emnist_val_labels.shape[0])*emnist_val_labels.shape[1])[0][0]\n",
    "\n",
    "# Plot a random sample of predictions against truth labels\n",
    "plt.figure(figsize=(10, 10))\n",
    "for i in range(16):\n",
    "    index = np.random.choice(emnist_val_images.shape[0])\n",
    "    plt.subplot(4, 4, i+1)\n",
    "    plt.imshow(emnist_val_images[index].squeeze(), cmap='gray')\n",
    "    plt.title(f\"Pred: {decoded_preds[index].numpy().decode('utf-8')} \\nTrue: {decoded_labels[index].numpy().decode('utf-8')}\")\n",
    "    plt.axis('off')\n",
    "plt.show()\n"
   ]
  },
  {
   "cell_type": "code",
   "execution_count": 24,
   "metadata": {},
   "outputs": [
    {
     "name": "stdout",
     "output_type": "stream",
     "text": [
      "1/1 [==============================] - 0s 121ms/step\n"
     ]
    },
    {
     "data": {
      "image/png": "[encoded data removed]",
      "text/plain": [
       "<Figure size 1200x600 with 10 Axes>"
      ]
     },
     "metadata": {},
     "output_type": "display_data"
    }
   ],
   "source": [
    "# # Get some sample images and corresponding labels from the training set\n",
    "# x_train_sample = emnist_train_images[:10]\n",
    "# y_train_sample = emnist_train_labels[:10]\n",
    "\n",
    "# # Make predictions on the sample images using the trained model\n",
    "# y_pred = penpalA.predict(x_train_sample)\n",
    "\n",
    "# # Convert the one-hot encoded predictions back to integers\n",
    "# y_pred_int = np.argmax(y_pred, axis=1)\n",
    "\n",
    "# # Plot the sample images along with their predicted labels\n",
    "# fig, axes = plt.subplots(nrows=2, ncols=5, figsize=(12, 6))\n",
    "# for i, ax in enumerate(axes.flat):\n",
    "#     ax.imshow(x_train_sample[i], cmap='gray')\n",
    "#     ax.set_title(f\"Predicted: {y_pred_int[i]}, True: {np.argmax(y_train_sample[i])}\")\n",
    "#     ax.axis('off')\n",
    "    \n",
    "# plt.tight_layout()\n",
    "# plt.show()\n"
   ]
  },
  {
   "cell_type": "markdown",
   "metadata": {},
   "source": [
    "<a name=\"Deployment\"></a>\n",
    "<h1><center> 10. Model Deployment."
   ]
  },
  {
   "cell_type": "markdown",
   "metadata": {},
   "source": [
    "<a name=\"End\"></a>\n",
    "<h1><center> 11. Conclusion."
   ]
  }
 ],
 "metadata": {
  "kernelspec": {
   "display_name": "penpal_env",
   "language": "python",
   "name": "penpal_env"
  },
  "language_info": {
   "codemirror_mode": {
    "name": "ipython",
    "version": 3
   },
   "file_extension": ".py",
   "mimetype": "text/x-python",
   "name": "python",
   "nbconvert_exporter": "python",
   "pygments_lexer": "ipython3",
   "version": "3.9.16"
  }
 },
 "nbformat": 4,
 "nbformat_minor": 4
}
